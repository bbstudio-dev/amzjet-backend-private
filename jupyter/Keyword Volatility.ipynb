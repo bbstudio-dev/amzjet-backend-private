{
 "cells": [
  {
   "cell_type": "code",
   "execution_count": 16,
   "metadata": {},
   "outputs": [],
   "source": [
    "import os\n",
    "import datetime\n",
    "import pymongo\n",
    "import pandas as pd\n",
    "import bb_utils.time.utils as tu\n",
    "from pandas.plotting import scatter_matrix"
   ]
  },
  {
   "cell_type": "code",
   "execution_count": 17,
   "metadata": {},
   "outputs": [],
   "source": [
    "DB_NAME = 'amz_local_search'\n",
    "MONGO_URI = os.environ.get('AMZ_MONGO_URI_TEMPLATE') % (os.environ.get('AMZ_MONGO_PASSWORD'), DB_NAME)\n",
    "\n",
    "def connect_to_db(mongo_uri):\n",
    "    client = pymongo.MongoClient(mongo_uri)\n",
    "    return client.get_database()\n",
    "\n",
    "db = connect_to_db(MONGO_URI)"
   ]
  },
  {
   "cell_type": "code",
   "execution_count": 18,
   "metadata": {},
   "outputs": [],
   "source": [
    "query = 'learning resources'\n",
    "query = 'learning resources'\n",
    "\n",
    "max_asins_per_search = 20\n",
    "rank_na_value = max_asins_per_search + 10"
   ]
  },
  {
   "cell_type": "code",
   "execution_count": 19,
   "metadata": {},
   "outputs": [
    {
     "data": {
      "text/html": [
       "<div>\n",
       "<style scoped>\n",
       "    .dataframe tbody tr th:only-of-type {\n",
       "        vertical-align: middle;\n",
       "    }\n",
       "\n",
       "    .dataframe tbody tr th {\n",
       "        vertical-align: top;\n",
       "    }\n",
       "\n",
       "    .dataframe thead th {\n",
       "        text-align: right;\n",
       "    }\n",
       "</style>\n",
       "<table border=\"1\" class=\"dataframe\">\n",
       "  <thead>\n",
       "    <tr style=\"text-align: right;\">\n",
       "      <th></th>\n",
       "      <th>date</th>\n",
       "      <th>state</th>\n",
       "      <th>rank</th>\n",
       "      <th>asin</th>\n",
       "      <th>avail_msg</th>\n",
       "      <th>get_by</th>\n",
       "    </tr>\n",
       "  </thead>\n",
       "  <tbody>\n",
       "    <tr>\n",
       "      <th>0</th>\n",
       "      <td>2019-12-22</td>\n",
       "      <td>MI</td>\n",
       "      <td>1</td>\n",
       "      <td>B07P8WBK9F</td>\n",
       "      <td>None</td>\n",
       "      <td>2019-12-24</td>\n",
       "    </tr>\n",
       "    <tr>\n",
       "      <th>1</th>\n",
       "      <td>2019-12-22</td>\n",
       "      <td>MI</td>\n",
       "      <td>2</td>\n",
       "      <td>B01N6L9JK2</td>\n",
       "      <td>None</td>\n",
       "      <td>2019-12-24</td>\n",
       "    </tr>\n",
       "    <tr>\n",
       "      <th>2</th>\n",
       "      <td>2019-12-22</td>\n",
       "      <td>MI</td>\n",
       "      <td>3</td>\n",
       "      <td>B00B2B0I62</td>\n",
       "      <td>None</td>\n",
       "      <td>2019-12-24</td>\n",
       "    </tr>\n",
       "  </tbody>\n",
       "</table>\n",
       "</div>"
      ],
      "text/plain": [
       "        date state  rank        asin avail_msg     get_by\n",
       "0 2019-12-22    MI     1  B07P8WBK9F      None 2019-12-24\n",
       "1 2019-12-22    MI     2  B01N6L9JK2      None 2019-12-24\n",
       "2 2019-12-22    MI     3  B00B2B0I62      None 2019-12-24"
      ]
     },
     "execution_count": 19,
     "metadata": {},
     "output_type": "execute_result"
    }
   ],
   "source": [
    "from amz_local_search.analysis import get_results_per_query, _replace_with_none\n",
    "\n",
    "    \n",
    "start_date = tu.utc_time() - datetime.timedelta(days=90)\n",
    "end_date = tu.utc_time()\n",
    "rank_iter = get_results_per_query(db, query, max_asins_per_result=max_asins_per_search, start_date=start_date)\n",
    "\n",
    "raw_rank_df = pd.DataFrame(\n",
    "    rank_iter,\n",
    "    columns=['date', 'state', 'rank', 'asin', 'avail_msg', 'get_by'])\n",
    "raw_rank_df.head(3)"
   ]
  },
  {
   "cell_type": "code",
   "execution_count": 20,
   "metadata": {},
   "outputs": [],
   "source": [
    "meta = {}\n",
    "meta['num_days'] = raw_rank_df['date'].nunique() if len(raw_rank_df) else 0\n",
    "meta['start_date'] = start_date\n",
    "meta['end_date'] = end_date"
   ]
  },
  {
   "cell_type": "code",
   "execution_count": 25,
   "metadata": {},
   "outputs": [
    {
     "data": {
      "text/html": [
       "<div>\n",
       "<style scoped>\n",
       "    .dataframe tbody tr th:only-of-type {\n",
       "        vertical-align: middle;\n",
       "    }\n",
       "\n",
       "    .dataframe tbody tr th {\n",
       "        vertical-align: top;\n",
       "    }\n",
       "\n",
       "    .dataframe thead th {\n",
       "        text-align: right;\n",
       "    }\n",
       "</style>\n",
       "<table border=\"1\" class=\"dataframe\">\n",
       "  <thead>\n",
       "    <tr style=\"text-align: right;\">\n",
       "      <th></th>\n",
       "      <th>mean</th>\n",
       "      <th>std</th>\n",
       "      <th>min</th>\n",
       "    </tr>\n",
       "    <tr>\n",
       "      <th>asin</th>\n",
       "      <th></th>\n",
       "      <th></th>\n",
       "      <th></th>\n",
       "    </tr>\n",
       "  </thead>\n",
       "  <tbody>\n",
       "    <tr>\n",
       "      <th>B07P8WBK9F</th>\n",
       "      <td>2.326531</td>\n",
       "      <td>4.714286</td>\n",
       "      <td>1.0</td>\n",
       "    </tr>\n",
       "    <tr>\n",
       "      <th>B01N6L9JK2</th>\n",
       "      <td>3.091837</td>\n",
       "      <td>3.676606</td>\n",
       "      <td>1.0</td>\n",
       "    </tr>\n",
       "    <tr>\n",
       "      <th>B00B2B0I62</th>\n",
       "      <td>3.877551</td>\n",
       "      <td>2.681982</td>\n",
       "      <td>2.0</td>\n",
       "    </tr>\n",
       "  </tbody>\n",
       "</table>\n",
       "</div>"
      ],
      "text/plain": [
       "                mean       std  min\n",
       "asin                               \n",
       "B07P8WBK9F  2.326531  4.714286  1.0\n",
       "B01N6L9JK2  3.091837  3.676606  1.0\n",
       "B00B2B0I62  3.877551  2.681982  2.0"
      ]
     },
     "execution_count": 25,
     "metadata": {},
     "output_type": "execute_result"
    }
   ],
   "source": [
    "# NOTE: This will ignore intra-day variations.\n",
    "rank_df = raw_rank_df.groupby(['state', 'date',\n",
    "                               'asin']).agg({'rank': 'mean'})\n",
    "\n",
    "rank_df = rank_df.unstack('asin')['rank'].fillna(rank_na_value).stack(\n",
    "    'asin')\n",
    "\n",
    "# Aggregated metrics per ASIN.\n",
    "#\n",
    "\n",
    "rank_per_asin = rank_df.groupby(['asin']).agg(\n",
    "    ['mean', 'std',\n",
    "     'min']).sort_values(['mean'], ascending=True)[:max_asins_per_search]\n",
    "\n",
    "rank_per_asin.head(3)"
   ]
  },
  {
   "cell_type": "code",
   "execution_count": 29,
   "metadata": {},
   "outputs": [
    {
     "data": {
      "text/plain": [
       "state  asin      \n",
       "AK     B00000DMCE   NaN\n",
       "       B00000DMD2   NaN\n",
       "       B00000JGWY   NaN\n",
       "dtype: float64"
      ]
     },
     "execution_count": 29,
     "metadata": {},
     "output_type": "execute_result"
    }
   ],
   "source": [
    "var_per_asin_in_state = rank_df.groupby(['state', 'asin']).std()\n",
    "var_per_asin_in_state.head(3)"
   ]
  },
  {
   "cell_type": "code",
   "execution_count": 42,
   "metadata": {},
   "outputs": [
    {
     "data": {
      "text/plain": [
       "state\n",
       "WY    0.0\n",
       "MO    0.0\n",
       "MI    0.0\n",
       "dtype: float64"
      ]
     },
     "execution_count": 42,
     "metadata": {},
     "output_type": "execute_result"
    }
   ],
   "source": [
    "# Aggregate metrics per state.\n",
    "#\n",
    "\n",
    "var_per_asin_in_state = rank_df.groupby(['state', 'asin']).std()\n",
    "total_var_per_state = var_per_asin_in_state.unstack('state').sum()\n",
    "\n",
    "# Normalize using an empirical weight.\n",
    "norm_weight = max_asins_per_search * rank_na_value * 0.9\n",
    "var_per_state = (total_var_per_state /\n",
    "                 norm_weight).sort_values(ascending=False)\n",
    "\n",
    "var_per_state.head(3)"
   ]
  },
  {
   "cell_type": "code",
   "execution_count": 43,
   "metadata": {},
   "outputs": [
    {
     "data": {
      "text/plain": [
       "0.16342104693375972"
      ]
     },
     "execution_count": 43,
     "metadata": {},
     "output_type": "execute_result"
    }
   ],
   "source": [
    "norm_weight = (len(rank_per_asin) * rank_na_value * 0.9)\n",
    "rank_per_asin['std'].sum() / norm_weight"
   ]
  },
  {
   "cell_type": "code",
   "execution_count": null,
   "metadata": {},
   "outputs": [],
   "source": []
  }
 ],
 "metadata": {
  "kernelspec": {
   "display_name": "Python 2",
   "language": "python",
   "name": "python2"
  },
  "language_info": {
   "codemirror_mode": {
    "name": "ipython",
    "version": 2
   },
   "file_extension": ".py",
   "mimetype": "text/x-python",
   "name": "python",
   "nbconvert_exporter": "python",
   "pygments_lexer": "ipython2",
   "version": "2.7.16"
  }
 },
 "nbformat": 4,
 "nbformat_minor": 2
}
