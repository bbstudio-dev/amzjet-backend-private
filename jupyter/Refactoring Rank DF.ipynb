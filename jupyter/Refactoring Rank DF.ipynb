{
 "cells": [
  {
   "cell_type": "code",
   "execution_count": 1,
   "metadata": {},
   "outputs": [],
   "source": [
    "import os\n",
    "import pymongo\n",
    "import pandas as pd\n",
    "import bb_utils.time.utils as tu"
   ]
  },
  {
   "cell_type": "code",
   "execution_count": 2,
   "metadata": {},
   "outputs": [],
   "source": [
    "DB_NAME = 'amz_local_search'\n",
    "MONGO_URI = os.environ.get('AMZ_MONGO_URI_TEMPLATE') % (os.environ.get('AMZ_MONGO_PASSWORD'), DB_NAME)\n",
    "\n",
    "def connect_to_db(mongo_uri):\n",
    "    client = pymongo.MongoClient(mongo_uri)\n",
    "    return client.get_database()\n",
    "\n",
    "db = connect_to_db(MONGO_URI)"
   ]
  },
  {
   "cell_type": "code",
   "execution_count": 3,
   "metadata": {},
   "outputs": [
    {
     "data": {
      "text/html": [
       "<div>\n",
       "<style scoped>\n",
       "    .dataframe tbody tr th:only-of-type {\n",
       "        vertical-align: middle;\n",
       "    }\n",
       "\n",
       "    .dataframe tbody tr th {\n",
       "        vertical-align: top;\n",
       "    }\n",
       "\n",
       "    .dataframe thead th {\n",
       "        text-align: right;\n",
       "    }\n",
       "</style>\n",
       "<table border=\"1\" class=\"dataframe\">\n",
       "  <thead>\n",
       "    <tr style=\"text-align: right;\">\n",
       "      <th></th>\n",
       "      <th>date</th>\n",
       "      <th>state</th>\n",
       "      <th>rank</th>\n",
       "      <th>avail_msg</th>\n",
       "      <th>get_by_date</th>\n",
       "      <th>device_type</th>\n",
       "    </tr>\n",
       "  </thead>\n",
       "  <tbody>\n",
       "    <tr>\n",
       "      <th>0</th>\n",
       "      <td>2020-01-02</td>\n",
       "      <td>FL</td>\n",
       "      <td>3</td>\n",
       "      <td>None</td>\n",
       "      <td>2020-01-04 00:00:00</td>\n",
       "      <td>desktop</td>\n",
       "    </tr>\n",
       "    <tr>\n",
       "      <th>1</th>\n",
       "      <td>2020-01-02</td>\n",
       "      <td>CA</td>\n",
       "      <td>3</td>\n",
       "      <td>None</td>\n",
       "      <td>2020-01-03 00:00:00</td>\n",
       "      <td>desktop</td>\n",
       "    </tr>\n",
       "    <tr>\n",
       "      <th>2</th>\n",
       "      <td>2020-01-03</td>\n",
       "      <td>FL</td>\n",
       "      <td>3</td>\n",
       "      <td>None</td>\n",
       "      <td>2020-01-06 00:00:00</td>\n",
       "      <td>desktop</td>\n",
       "    </tr>\n",
       "    <tr>\n",
       "      <th>3</th>\n",
       "      <td>2020-01-05</td>\n",
       "      <td>FL</td>\n",
       "      <td>2</td>\n",
       "      <td>None</td>\n",
       "      <td>2020-01-07 00:00:00</td>\n",
       "      <td>desktop</td>\n",
       "    </tr>\n",
       "    <tr>\n",
       "      <th>4</th>\n",
       "      <td>2020-01-05</td>\n",
       "      <td>CA</td>\n",
       "      <td>2</td>\n",
       "      <td>None</td>\n",
       "      <td>2020-01-07 00:00:00</td>\n",
       "      <td>desktop</td>\n",
       "    </tr>\n",
       "  </tbody>\n",
       "</table>\n",
       "</div>"
      ],
      "text/plain": [
       "        date state  rank avail_msg          get_by_date device_type\n",
       "0 2020-01-02    FL     3      None  2020-01-04 00:00:00     desktop\n",
       "1 2020-01-02    CA     3      None  2020-01-03 00:00:00     desktop\n",
       "2 2020-01-03    FL     3      None  2020-01-06 00:00:00     desktop\n",
       "3 2020-01-05    FL     2      None  2020-01-07 00:00:00     desktop\n",
       "4 2020-01-05    CA     2      None  2020-01-07 00:00:00     desktop"
      ]
     },
     "execution_count": 3,
     "metadata": {},
     "output_type": "execute_result"
    }
   ],
   "source": [
    "from amz_local_search.analysis import _get_historical_data_iter, _replace_with_none, _num_series_to_js_series, _to_js_ts\n",
    "\n",
    "query = 'carabiner clip'\n",
    "asin = 'B0719B4LNH'\n",
    "\n",
    "data_filter = {\n",
    "    'tag': 'device',\n",
    "    'device_type': 'desktop'\n",
    "}\n",
    "rank_iter = _get_historical_data_iter(db, user_id=None, query=query, asin=asin, data_filter=data_filter)\n",
    "\n",
    "raw_rank_df = pd.DataFrame(rank_iter,\n",
    "                           columns=[\n",
    "                               'date', 'state', 'rank', 'avail_msg',\n",
    "                               'get_by_date', 'device_type'\n",
    "                           ])\n",
    "raw_rank_df['device_type'].fillna('mobile', inplace=True)\n",
    "raw_rank_df.head(5)"
   ]
  },
  {
   "cell_type": "code",
   "execution_count": 23,
   "metadata": {},
   "outputs": [
    {
     "data": {
      "text/html": [
       "<div>\n",
       "<style scoped>\n",
       "    .dataframe tbody tr th:only-of-type {\n",
       "        vertical-align: middle;\n",
       "    }\n",
       "\n",
       "    .dataframe tbody tr th {\n",
       "        vertical-align: top;\n",
       "    }\n",
       "\n",
       "    .dataframe thead th {\n",
       "        text-align: right;\n",
       "    }\n",
       "</style>\n",
       "<table border=\"1\" class=\"dataframe\">\n",
       "  <thead>\n",
       "    <tr style=\"text-align: right;\">\n",
       "      <th></th>\n",
       "      <th>state</th>\n",
       "      <th>date</th>\n",
       "      <th>get_by_date</th>\n",
       "      <th>avail_msg</th>\n",
       "      <th>rank</th>\n",
       "    </tr>\n",
       "  </thead>\n",
       "  <tbody>\n",
       "    <tr>\n",
       "      <th>0</th>\n",
       "      <td>CA</td>\n",
       "      <td>2020-01-02</td>\n",
       "      <td>2020-01-03 00:00:00</td>\n",
       "      <td>None</td>\n",
       "      <td>3.000000</td>\n",
       "    </tr>\n",
       "    <tr>\n",
       "      <th>1</th>\n",
       "      <td>FL</td>\n",
       "      <td>2020-01-02</td>\n",
       "      <td>2020-01-04 00:00:00</td>\n",
       "      <td>None</td>\n",
       "      <td>3.000000</td>\n",
       "    </tr>\n",
       "    <tr>\n",
       "      <th>2</th>\n",
       "      <td>CA</td>\n",
       "      <td>2020-01-03</td>\n",
       "      <td>NaN</td>\n",
       "      <td>NaN</td>\n",
       "      <td>2.666667</td>\n",
       "    </tr>\n",
       "    <tr>\n",
       "      <th>3</th>\n",
       "      <td>FL</td>\n",
       "      <td>2020-01-03</td>\n",
       "      <td>2020-01-06 00:00:00</td>\n",
       "      <td>None</td>\n",
       "      <td>3.000000</td>\n",
       "    </tr>\n",
       "    <tr>\n",
       "      <th>4</th>\n",
       "      <td>CA</td>\n",
       "      <td>2020-01-05</td>\n",
       "      <td>2020-01-07 00:00:00</td>\n",
       "      <td>None</td>\n",
       "      <td>2.000000</td>\n",
       "    </tr>\n",
       "    <tr>\n",
       "      <th>5</th>\n",
       "      <td>FL</td>\n",
       "      <td>2020-01-05</td>\n",
       "      <td>2020-01-07 00:00:00</td>\n",
       "      <td>None</td>\n",
       "      <td>2.000000</td>\n",
       "    </tr>\n",
       "  </tbody>\n",
       "</table>\n",
       "</div>"
      ],
      "text/plain": [
       "  state       date          get_by_date avail_msg      rank\n",
       "0    CA 2020-01-02  2020-01-03 00:00:00      None  3.000000\n",
       "1    FL 2020-01-02  2020-01-04 00:00:00      None  3.000000\n",
       "2    CA 2020-01-03                  NaN       NaN  2.666667\n",
       "3    FL 2020-01-03  2020-01-06 00:00:00      None  3.000000\n",
       "4    CA 2020-01-05  2020-01-07 00:00:00      None  2.000000\n",
       "5    FL 2020-01-05  2020-01-07 00:00:00      None  2.000000"
      ]
     },
     "execution_count": 23,
     "metadata": {},
     "output_type": "execute_result"
    }
   ],
   "source": [
    "from amz_local_search.analysis import normalize_rank_df\n",
    "report = {}\n",
    "\n",
    "daily_rank_df, rank_df_with_state_cols = normalize_rank_df(raw_rank_df)\n",
    "\n",
    "daily_rank_df"
   ]
  },
  {
   "cell_type": "code",
   "execution_count": 24,
   "metadata": {},
   "outputs": [
    {
     "data": {
      "text/plain": [
       "0   2020-01-05\n",
       "1   2020-01-05\n",
       "2   2020-01-05\n",
       "3   2020-01-05\n",
       "4   2020-01-05\n",
       "5   2020-01-05\n",
       "Name: date, dtype: datetime64[ns]"
      ]
     },
     "execution_count": 24,
     "metadata": {},
     "output_type": "execute_result"
    }
   ],
   "source": [
    "ranks_by_state['date'].transform(\n",
    "                                   'max')"
   ]
  },
  {
   "cell_type": "code",
   "execution_count": 25,
   "metadata": {},
   "outputs": [
    {
     "data": {
      "text/html": [
       "<div>\n",
       "<style scoped>\n",
       "    .dataframe tbody tr th:only-of-type {\n",
       "        vertical-align: middle;\n",
       "    }\n",
       "\n",
       "    .dataframe tbody tr th {\n",
       "        vertical-align: top;\n",
       "    }\n",
       "\n",
       "    .dataframe thead th {\n",
       "        text-align: right;\n",
       "    }\n",
       "</style>\n",
       "<table border=\"1\" class=\"dataframe\">\n",
       "  <thead>\n",
       "    <tr style=\"text-align: right;\">\n",
       "      <th></th>\n",
       "      <th>state</th>\n",
       "      <th>date</th>\n",
       "      <th>get_by_date</th>\n",
       "      <th>avail_msg</th>\n",
       "      <th>rank</th>\n",
       "    </tr>\n",
       "  </thead>\n",
       "  <tbody>\n",
       "    <tr>\n",
       "      <th>4</th>\n",
       "      <td>CA</td>\n",
       "      <td>2020-01-05</td>\n",
       "      <td>2020-01-07 00:00:00</td>\n",
       "      <td>None</td>\n",
       "      <td>2.0</td>\n",
       "    </tr>\n",
       "    <tr>\n",
       "      <th>5</th>\n",
       "      <td>FL</td>\n",
       "      <td>2020-01-05</td>\n",
       "      <td>2020-01-07 00:00:00</td>\n",
       "      <td>None</td>\n",
       "      <td>2.0</td>\n",
       "    </tr>\n",
       "  </tbody>\n",
       "</table>\n",
       "</div>"
      ],
      "text/plain": [
       "  state       date          get_by_date avail_msg  rank\n",
       "4    CA 2020-01-05  2020-01-07 00:00:00      None   2.0\n",
       "5    FL 2020-01-05  2020-01-07 00:00:00      None   2.0"
      ]
     },
     "execution_count": 25,
     "metadata": {},
     "output_type": "execute_result"
    }
   ],
   "source": [
    "ranks_by_state = daily_rank_df.groupby(['state'])\n",
    "ranks_by_date = daily_rank_df.groupby('date')\n",
    "\n",
    "# This will contain only rows recorded on the latest date for each\n",
    "# state.\n",
    "last_per_state = daily_rank_df[daily_rank_df['date'] ==\n",
    "                               ranks_by_state['date'].transform(\n",
    "                                   'max')].groupby('state')\n",
    "\n",
    "last_per_state.head(10)"
   ]
  },
  {
   "cell_type": "code",
   "execution_count": 20,
   "metadata": {},
   "outputs": [
    {
     "data": {
      "text/plain": [
       "mean      2.0\n",
       "std       0.0\n",
       "min       2.0\n",
       "max       2.0\n",
       "median    2.0\n",
       "Name: last, dtype: float64"
      ]
     },
     "execution_count": 20,
     "metadata": {},
     "output_type": "execute_result"
    }
   ],
   "source": [
    "agg_df = ranks_by_state['rank'].agg(\n",
    "    ['mean', 'std', 'min', 'max', 'median'])\n",
    "\n",
    "# Record an average rank on the latest date. If we just do agg('last'),\n",
    "# it will simply contain the last data point.\n",
    "agg_df['last'] = last_per_state['rank'].agg('mean')\n",
    "agg_df['get_by'] = last_per_state['get_by_date'].agg('last').map(\n",
    "    lambda v: 1000 * tu.unix_seconds(v) if pd.notnull(v) else None)\n",
    "agg_df['avail_msg'] = last_per_state['avail_msg'].agg('last')\n",
    "\n",
    "\n",
    "agg_df['last'].agg(\n",
    "        ['mean', 'std', 'min', 'max', 'median'])"
   ]
  },
  {
   "cell_type": "code",
   "execution_count": 21,
   "metadata": {},
   "outputs": [
    {
     "data": {
      "text/html": [
       "<div>\n",
       "<style scoped>\n",
       "    .dataframe tbody tr th:only-of-type {\n",
       "        vertical-align: middle;\n",
       "    }\n",
       "\n",
       "    .dataframe tbody tr th {\n",
       "        vertical-align: top;\n",
       "    }\n",
       "\n",
       "    .dataframe thead th {\n",
       "        text-align: right;\n",
       "    }\n",
       "</style>\n",
       "<table border=\"1\" class=\"dataframe\">\n",
       "  <thead>\n",
       "    <tr style=\"text-align: right;\">\n",
       "      <th></th>\n",
       "      <th>mean</th>\n",
       "      <th>std</th>\n",
       "      <th>min</th>\n",
       "      <th>max</th>\n",
       "      <th>median</th>\n",
       "      <th>last</th>\n",
       "      <th>get_by</th>\n",
       "      <th>avail_msg</th>\n",
       "    </tr>\n",
       "    <tr>\n",
       "      <th>state</th>\n",
       "      <th></th>\n",
       "      <th></th>\n",
       "      <th></th>\n",
       "      <th></th>\n",
       "      <th></th>\n",
       "      <th></th>\n",
       "      <th></th>\n",
       "      <th></th>\n",
       "    </tr>\n",
       "  </thead>\n",
       "  <tbody>\n",
       "    <tr>\n",
       "      <th>CA</th>\n",
       "      <td>2.555556</td>\n",
       "      <td>0.509175</td>\n",
       "      <td>2.0</td>\n",
       "      <td>3.0</td>\n",
       "      <td>2.666667</td>\n",
       "      <td>2.0</td>\n",
       "      <td>1.578355e+12</td>\n",
       "      <td>None</td>\n",
       "    </tr>\n",
       "    <tr>\n",
       "      <th>FL</th>\n",
       "      <td>2.666667</td>\n",
       "      <td>0.577350</td>\n",
       "      <td>2.0</td>\n",
       "      <td>3.0</td>\n",
       "      <td>3.000000</td>\n",
       "      <td>2.0</td>\n",
       "      <td>1.578355e+12</td>\n",
       "      <td>None</td>\n",
       "    </tr>\n",
       "  </tbody>\n",
       "</table>\n",
       "</div>"
      ],
      "text/plain": [
       "           mean       std  min  max    median  last        get_by avail_msg\n",
       "state                                                                      \n",
       "CA     2.555556  0.509175  2.0  3.0  2.666667   2.0  1.578355e+12      None\n",
       "FL     2.666667  0.577350  2.0  3.0  3.000000   2.0  1.578355e+12      None"
      ]
     },
     "execution_count": 21,
     "metadata": {},
     "output_type": "execute_result"
    }
   ],
   "source": [
    "agg_df"
   ]
  },
  {
   "cell_type": "code",
   "execution_count": 28,
   "metadata": {},
   "outputs": [
    {
     "data": {
      "text/plain": [
       "{'average': [[1577923200000.0, 3.0],\n",
       "  [1578009600000.0, 2.8333333333333335],\n",
       "  [1578182400000.0, 2.0]],\n",
       " 'median': [[1577923200000.0, 3.0],\n",
       "  [1578009600000.0, 2.8333333333333335],\n",
       "  [1578182400000.0, 2.0]],\n",
       " 'range': [[1577923200000.0, 3.0, 3.0],\n",
       "  [1578009600000.0, 2.666666666666667, 3.0],\n",
       "  [1578182400000.0, 2.0, 2.0]]}"
      ]
     },
     "execution_count": 28,
     "metadata": {},
     "output_type": "execute_result"
    }
   ],
   "source": [
    " pivoted_rank_df = _replace_with_none(rank_df_with_state_cols)\n",
    "\n",
    "rank_chart_data = []\n",
    "for state in pivoted_rank_df:\n",
    "    ranks = pivoted_rank_df[state]\n",
    "    data = _num_series_to_js_series(ranks.iteritems())\n",
    "    rank_chart_data.append({'name': state, 'data': data})\n",
    "\n",
    "# TODO: This needs to be computed over the time series with\n",
    "# the missing values filled.\n",
    "rank_df_indicators = ranks_by_date['rank'].agg(\n",
    "    ['min', 'max', 'mean', 'median'])\n",
    "\n",
    "rank_chart_indicators = {'range': [], 'average': [], 'median': []}\n",
    "for ts, row in rank_df_indicators.iterrows():\n",
    "    ts_js = _to_js_ts(ts)\n",
    "    rank_chart_indicators['range'].append([ts_js, row['min'], row['max']])\n",
    "    rank_chart_indicators['average'].append([ts_js, row['mean']])\n",
    "    rank_chart_indicators['median'].append([ts_js, row['median']])\n",
    "\n",
    "report = {}\n",
    "report['aggRanks'] = _replace_with_none(agg_df).reset_index().to_dict(\n",
    "    orient='records')\n",
    "report['rankHistory'] = rank_chart_data\n",
    "report['rankHistoryIndicators'] = rank_chart_indicators\n",
    "report['rankHistoryIndicators']"
   ]
  },
  {
   "cell_type": "code",
   "execution_count": null,
   "metadata": {},
   "outputs": [],
   "source": []
  }
 ],
 "metadata": {
  "kernelspec": {
   "display_name": "Python 2",
   "language": "python",
   "name": "python2"
  },
  "language_info": {
   "codemirror_mode": {
    "name": "ipython",
    "version": 2
   },
   "file_extension": ".py",
   "mimetype": "text/x-python",
   "name": "python",
   "nbconvert_exporter": "python",
   "pygments_lexer": "ipython2",
   "version": "2.7.16"
  }
 },
 "nbformat": 4,
 "nbformat_minor": 2
}
