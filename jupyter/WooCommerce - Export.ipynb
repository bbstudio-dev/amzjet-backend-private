{
 "cells": [
  {
   "cell_type": "code",
   "execution_count": 12,
   "metadata": {},
   "outputs": [],
   "source": [
    "import os\n",
    "import pandas as pd\n",
    "import pymongo\n",
    "\n",
    "\n",
    "import requests\n",
    "from requests_oauthlib import OAuth1\n",
    "import json"
   ]
  },
  {
   "cell_type": "code",
   "execution_count": 13,
   "metadata": {},
   "outputs": [],
   "source": [
    "OUT_DIR = '.woo_data/'\n",
    "if not os.path.exists(OUT_DIR):\n",
    "    os.makedirs(OUT_DIR)"
   ]
  },
  {
   "cell_type": "code",
   "execution_count": 16,
   "metadata": {},
   "outputs": [],
   "source": [
    "os.environ['AMZ_WP_APP_CLIENT_KEY'] = 'ck_78e5a1d0e542ea125445a54ad9670092a771229d'\n",
    "os.environ['AMZ_WP_APP_CLIENT_SECRET'] = 'cs_a750266a80a02cf2aafcf7ac2db2e4dcbd8b2163'\n",
    "os.environ['AMZ_WP_APP_API'] = 'https://georanktool.com/wp-json/'\n",
    "\n",
    "class WpRequestHelper(object):\n",
    "    CLIENT_KEY = os.environ.get('AMZ_WP_APP_CLIENT_KEY')\n",
    "    CLIENT_SECRET = os.environ.get('AMZ_WP_APP_CLIENT_SECRET')\n",
    "    AMZ_WP_APP_API = os.environ.get('AMZ_WP_APP_API')\n",
    "\n",
    "    oauth = OAuth1(CLIENT_KEY,\n",
    "                   client_secret=CLIENT_SECRET,\n",
    "                   signature_type='query')\n",
    "\n",
    "    @classmethod\n",
    "    def get_request(cls, rel_url):\n",
    "        url = cls.AMZ_WP_APP_API + rel_url\n",
    "        return requests.get(url=url, auth=cls.oauth, timeout=10)"
   ]
  },
  {
   "cell_type": "markdown",
   "metadata": {},
   "source": [
    "# Export customers"
   ]
  },
  {
   "cell_type": "code",
   "execution_count": 18,
   "metadata": {},
   "outputs": [
    {
     "name": "stdout",
     "output_type": "stream",
     "text": [
      "Loading WC customers...\n",
      "Fetched 100 items\n",
      "Fetched 100 items\n",
      "Fetched 100 items\n",
      "Fetched 100 items\n",
      "Fetched 100 items\n",
      "Fetched 100 items\n",
      "Fetched 100 items\n",
      "Fetched 100 items\n",
      "Fetched 14 items\n",
      "Fetched 0 items\n",
      "Loaded 814 customers\n"
     ]
    }
   ],
   "source": [
    "print('Loading WC customers...')\n",
    "raw_wc_customers = []\n",
    "page_no = 1\n",
    "while True:\n",
    "    response = WpRequestHelper.get_request('wc/v3/customers?per_page=100&page=%d' % page_no)\n",
    "    response.raise_for_status()\n",
    "    items = json.loads(response.content)\n",
    "    print('Fetched %d items' % len(items))\n",
    "    if not len(items):\n",
    "        break\n",
    "    raw_wc_customers.extend(items)\n",
    "    page_no += 1\n",
    "print('Loaded %d customers' % len(raw_wc_customers))"
   ]
  },
  {
   "cell_type": "code",
   "execution_count": 19,
   "metadata": {},
   "outputs": [
    {
     "data": {
      "text/plain": [
       "{u'_links': {u'collection': [{u'href': u'https://georanktool.com/wp-json/wc/v3/customers'}],\n",
       "  u'self': [{u'href': u'https://georanktool.com/wp-json/wc/v3/customers/17874'}]},\n",
       " u'avatar_url': u'https://secure.gravatar.com/avatar/204f88017b09b7422858e0b3ea726e7b?s=96&d=mm&r=g',\n",
       " u'billing': {u'address_1': u'',\n",
       "  u'address_2': u'',\n",
       "  u'city': u'',\n",
       "  u'company': u'',\n",
       "  u'country': u'',\n",
       "  u'email': u'',\n",
       "  u'first_name': u'',\n",
       "  u'last_name': u'',\n",
       "  u'phone': u'',\n",
       "  u'postcode': u'',\n",
       "  u'state': u''},\n",
       " u'date_created': u'2020-04-13T20:34:01',\n",
       " u'date_created_gmt': u'2020-04-14T03:34:01',\n",
       " u'date_modified': None,\n",
       " u'date_modified_gmt': None,\n",
       " u'email': u'138213802@qq.com',\n",
       " u'first_name': u'',\n",
       " u'id': 17874,\n",
       " u'is_paying_customer': False,\n",
       " u'last_name': u'',\n",
       " u'meta_data': [{u'id': 17523,\n",
       "   u'key': u'_wcs_subscription_ids_cache',\n",
       "   u'value': []},\n",
       "  {u'id': 17524,\n",
       "   u'key': u'mailchimp_woocommerce_is_subscribed',\n",
       "   u'value': u'1'},\n",
       "  {u'id': 17525,\n",
       "   u'key': u'_yoast_wpseo_profile_updated',\n",
       "   u'value': u'1586835241'},\n",
       "  {u'id': 17527, u'key': u'wc_last_active', u'value': u'1586822400'}],\n",
       " u'role': u'customer',\n",
       " u'shipping': {u'address_1': u'',\n",
       "  u'address_2': u'',\n",
       "  u'city': u'',\n",
       "  u'company': u'',\n",
       "  u'country': u'',\n",
       "  u'first_name': u'',\n",
       "  u'last_name': u'',\n",
       "  u'postcode': u'',\n",
       "  u'state': u''},\n",
       " u'username': u'138213802'}"
      ]
     },
     "execution_count": 19,
     "metadata": {},
     "output_type": "execute_result"
    }
   ],
   "source": [
    "raw_wc_customers[0]"
   ]
  },
  {
   "cell_type": "code",
   "execution_count": 20,
   "metadata": {},
   "outputs": [],
   "source": [
    "with open(os.path.join(OUT_DIR, 'wc_customers.json'), 'w') as f:\n",
    "    json.dump(raw_wc_customers, f)"
   ]
  },
  {
   "cell_type": "markdown",
   "metadata": {},
   "source": [
    "# Export orders"
   ]
  },
  {
   "cell_type": "code",
   "execution_count": 21,
   "metadata": {},
   "outputs": [
    {
     "name": "stdout",
     "output_type": "stream",
     "text": [
      "Loading WC orders...\n",
      "Fetched 100 items\n",
      "Fetched 100 items\n",
      "Fetched 100 items\n",
      "Fetched 100 items\n",
      "Fetched 100 items\n",
      "Fetched 100 items\n",
      "Fetched 100 items\n",
      "Fetched 100 items\n",
      "Fetched 100 items\n",
      "Fetched 100 items\n",
      "Fetched 37 items\n",
      "Fetched 0 items\n",
      "Loaded 1037 orders\n"
     ]
    }
   ],
   "source": [
    "print('Loading WC orders...')\n",
    "raw_wc_orders = []\n",
    "page_no = 1\n",
    "while True:\n",
    "    response = WpRequestHelper.get_request('wc/v3/orders?per_page=100&page=%d' % page_no)\n",
    "    response.raise_for_status()\n",
    "    items = json.loads(response.content)\n",
    "    print('Fetched %d items' % len(items))\n",
    "    if not len(items):\n",
    "        break\n",
    "    raw_wc_orders.extend(items)\n",
    "    page_no += 1\n",
    "print('Loaded %d orders' % len(raw_wc_orders))"
   ]
  },
  {
   "cell_type": "code",
   "execution_count": 22,
   "metadata": {},
   "outputs": [
    {
     "data": {
      "text/plain": [
       "{u'_links': {u'collection': [{u'href': u'https://georanktool.com/wp-json/wc/v3/orders'}],\n",
       "  u'customer': [{u'href': u'https://georanktool.com/wp-json/wc/v3/customers/18026'}],\n",
       "  u'self': [{u'href': u'https://georanktool.com/wp-json/wc/v3/orders/17219'}]},\n",
       " u'billing': {u'address_1': u'',\n",
       "  u'address_2': u'',\n",
       "  u'city': u'',\n",
       "  u'company': u'',\n",
       "  u'country': u'',\n",
       "  u'email': u'yaixar@dreamyaccessories.com',\n",
       "  u'first_name': u'Yaixa',\n",
       "  u'last_name': u'Rivera',\n",
       "  u'phone': u'',\n",
       "  u'postcode': u'',\n",
       "  u'state': u''},\n",
       " u'cart_hash': u'',\n",
       " u'cart_tax': u'0.00',\n",
       " u'coupon_lines': [],\n",
       " u'created_via': u'subscription',\n",
       " u'currency': u'USD',\n",
       " u'currency_symbol': u'$',\n",
       " u'customer_id': 18026,\n",
       " u'customer_ip_address': u'74.213.72.12',\n",
       " u'customer_note': u'',\n",
       " u'customer_user_agent': u'Mozilla/5.0 (Windows NT 10.0; Win64; x64) AppleWebKit/537.36 (KHTML, like Gecko) Chrome/85.0.4183.83 Safari/537.36',\n",
       " u'date_completed': None,\n",
       " u'date_completed_gmt': None,\n",
       " u'date_created': u'2020-11-02T16:00:02',\n",
       " u'date_created_gmt': u'2020-11-03T00:00:02',\n",
       " u'date_modified': u'2020-11-02T16:00:05',\n",
       " u'date_modified_gmt': u'2020-11-03T00:00:05',\n",
       " u'date_paid': u'2020-11-02T16:00:08',\n",
       " u'date_paid_gmt': u'2020-11-03T00:00:08',\n",
       " u'discount_tax': u'0.00',\n",
       " u'discount_total': u'0.00',\n",
       " u'fee_lines': [],\n",
       " u'id': 17219,\n",
       " u'line_items': [{u'id': 2438,\n",
       "   u'meta_data': [],\n",
       "   u'name': u'Subscription - Basic',\n",
       "   u'price': 25,\n",
       "   u'product_id': 33,\n",
       "   u'quantity': 1,\n",
       "   u'sku': u'',\n",
       "   u'subtotal': u'25.00',\n",
       "   u'subtotal_tax': u'0.00',\n",
       "   u'tax_class': u'',\n",
       "   u'taxes': [],\n",
       "   u'total': u'25.00',\n",
       "   u'total_tax': u'0.00',\n",
       "   u'variation_id': 35}],\n",
       " u'meta_data': [{u'id': 143031,\n",
       "   u'key': u'mailchimp_woocommerce_campaign_id',\n",
       "   u'value': u''},\n",
       "  {u'id': 143032,\n",
       "   u'key': u'mailchimp_woocommerce_landing_site',\n",
       "   u'value': u''},\n",
       "  {u'id': 143049, u'key': u'is_vat_exempt', u'value': u'no'},\n",
       "  {u'id': 143050, u'key': u'_wcf_checkout_id', u'value': u'262'},\n",
       "  {u'id': 143051, u'key': u'_wcf_flow_id', u'value': u'260'},\n",
       "  {u'id': 143052, u'key': u'_wcf_bump_product', u'value': u''},\n",
       "  {u'id': 143053,\n",
       "   u'key': u'_stripe_customer_id',\n",
       "   u'value': u'cus_HwzPQY9uBAAMF4'},\n",
       "  {u'id': 143054,\n",
       "   u'key': u'_stripe_source_id',\n",
       "   u'value': u'src_1HN5QKDhpskMtcA4euKS5Bth'},\n",
       "  {u'id': 143058, u'key': u'_subscription_renewal', u'value': u'15543'},\n",
       "  {u'id': 143061,\n",
       "   u'key': u'_stripe_intent_id',\n",
       "   u'value': u'pi_1HjCwRDhpskMtcA4jbwq8mKX'},\n",
       "  {u'id': 143062, u'key': u'_stripe_charge_captured', u'value': u'yes'},\n",
       "  {u'id': 143063, u'key': u'_stripe_fee', u'value': u'1.03'},\n",
       "  {u'id': 143064, u'key': u'_stripe_net', u'value': u'23.97'},\n",
       "  {u'id': 143065, u'key': u'_stripe_currency', u'value': u'USD'}],\n",
       " u'number': u'17219',\n",
       " u'order_key': u'wc_order_vzMxxMSQZwndF',\n",
       " u'parent_id': 0,\n",
       " u'payment_method': u'stripe',\n",
       " u'payment_method_title': u'Credit Card',\n",
       " u'prices_include_tax': False,\n",
       " u'refunds': [],\n",
       " u'shipping': {u'address_1': u'',\n",
       "  u'address_2': u'',\n",
       "  u'city': u'',\n",
       "  u'company': u'',\n",
       "  u'country': u'',\n",
       "  u'first_name': u'',\n",
       "  u'last_name': u'',\n",
       "  u'postcode': u'',\n",
       "  u'state': u''},\n",
       " u'shipping_lines': [],\n",
       " u'shipping_tax': u'0.00',\n",
       " u'shipping_total': u'0.00',\n",
       " u'status': u'processing',\n",
       " u'tax_lines': [],\n",
       " u'total': u'25.00',\n",
       " u'total_tax': u'0.00',\n",
       " u'transaction_id': u'ch_1HjCwRDhpskMtcA4LNakzwEr',\n",
       " u'version': u'4.6.0'}"
      ]
     },
     "execution_count": 22,
     "metadata": {},
     "output_type": "execute_result"
    }
   ],
   "source": [
    "raw_wc_orders[0]"
   ]
  },
  {
   "cell_type": "code",
   "execution_count": 23,
   "metadata": {},
   "outputs": [],
   "source": [
    "with open(os.path.join(OUT_DIR, 'wc_orders.json'), 'w') as f:\n",
    "    json.dump(raw_wc_orders, f)"
   ]
  },
  {
   "cell_type": "code",
   "execution_count": null,
   "metadata": {},
   "outputs": [],
   "source": []
  }
 ],
 "metadata": {
  "kernelspec": {
   "display_name": "Python 2",
   "language": "python",
   "name": "python2"
  },
  "language_info": {
   "codemirror_mode": {
    "name": "ipython",
    "version": 2
   },
   "file_extension": ".py",
   "mimetype": "text/x-python",
   "name": "python",
   "nbconvert_exporter": "python",
   "pygments_lexer": "ipython2",
   "version": "2.7.16"
  }
 },
 "nbformat": 4,
 "nbformat_minor": 2
}
