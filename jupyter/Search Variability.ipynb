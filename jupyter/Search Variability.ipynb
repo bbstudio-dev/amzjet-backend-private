{
 "cells": [
  {
   "cell_type": "code",
   "execution_count": 1,
   "metadata": {},
   "outputs": [],
   "source": [
    "from amz_local_search.search_task import run_search_results_crawler\n",
    "from pprint import pprint"
   ]
  },
  {
   "cell_type": "code",
   "execution_count": 2,
   "metadata": {},
   "outputs": [
    {
     "name": "stderr",
     "output_type": "stream",
     "text": [
      "No handlers could be found for logger \"amz_local_search.search_task\"\n"
     ]
    },
    {
     "name": "stdout",
     "output_type": "stream",
     "text": [
      "{'out_filename': '/Users/evgenyp/Projects/AmzJet/AmzJet/amz-apps/amz_local_search/jupyter/data/carabiner-web-default.jsonlines',\n",
      " 'search_args': {'max_locations': 50,\n",
      "                 'max_pages': 3,\n",
      "                 'method': 'web',\n",
      "                 'num_samples': 5,\n",
      "                 'query': 'carabiner clip'}}\n"
     ]
    }
   ],
   "source": [
    "task_args_web = {\n",
    "    'norm_query': 'carabiner clip',\n",
    "    'max_pages': 3,\n",
    "    'max_locations': 50,\n",
    "    'num_samples': 5,\n",
    "    'force_refresh': True,\n",
    "    'method': 'web',\n",
    "    'out_filename': '/Users/evgenyp/Projects/AmzJet/AmzJet/amz-apps/amz_local_search/jupyter/data/carabiner-web-default.jsonlines'\n",
    "}\n",
    "result_web = run_search_results_crawler(task_args_web)\n",
    "pprint(result_web)"
   ]
  },
  {
   "cell_type": "code",
   "execution_count": 3,
   "metadata": {},
   "outputs": [
    {
     "name": "stdout",
     "output_type": "stream",
     "text": [
      "{'out_filename': '/Users/evgenyp/Projects/AmzJet/AmzJet/amz-apps/amz_local_search/jupyter/data/carabiner-json-default.jsonlines',\n",
      " 'search_args': {'max_locations': 50,\n",
      "                 'max_pages': 3,\n",
      "                 'method': 'json-api',\n",
      "                 'num_samples': 5,\n",
      "                 'query': 'carabiner clip'}}\n"
     ]
    }
   ],
   "source": [
    "task_args_json = {\n",
    "    'norm_query': 'carabiner clip',\n",
    "    'max_pages': 3,\n",
    "    'max_locations': 50,\n",
    "    'num_samples': 5,\n",
    "    'force_refresh': True,\n",
    "    'method': 'json-api',\n",
    "    'out_filename': '/Users/evgenyp/Projects/AmzJet/AmzJet/amz-apps/amz_local_search/jupyter/data/carabiner-json-default.jsonlines'\n",
    "}\n",
    "result_json = run_search_results_crawler(task_args_json)\n",
    "pprint(result_json)"
   ]
  },
  {
   "cell_type": "code",
   "execution_count": null,
   "metadata": {},
   "outputs": [],
   "source": []
  }
 ],
 "metadata": {
  "kernelspec": {
   "display_name": "Python 2",
   "language": "python",
   "name": "python2"
  },
  "language_info": {
   "codemirror_mode": {
    "name": "ipython",
    "version": 2
   },
   "file_extension": ".py",
   "mimetype": "text/x-python",
   "name": "python",
   "nbconvert_exporter": "python",
   "pygments_lexer": "ipython2",
   "version": "2.7.16"
  }
 },
 "nbformat": 4,
 "nbformat_minor": 2
}
